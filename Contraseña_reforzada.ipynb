{
 "cells": [
  {
   "cell_type": "code",
   "execution_count": 41,
   "id": "ffacd5ac",
   "metadata": {},
   "outputs": [
    {
     "name": "stdout",
     "output_type": "stream",
     "text": [
      "Ingrese la longitud de su nueva contraseña(el tamaño importa): 5\n",
      "Tu contraseña reforzada es: ZL/k9\n"
     ]
    }
   ],
   "source": [
    "import random\n",
    "\n",
    "def contraseña_reforzada():\n",
    "    contraseña = []\n",
    "    mayusculas = [\"A\",\"B\",\"C\",\"D\",\"F\",\"G\",\"H\",\"I\",\"K\",\"L\",\"M\",\"N\",\"O\",\"P\",\"Q\",\"R\",\"S\",\"T\",\"U\",\"V\",\"W\",\"X\",\"Y\",\"Z\"]\n",
    "    minusculas = [\"a\",\"b\",\"c\",\"d\",\"f\",\"g\",\"h\",\"i\",\"j\",\"k\",\"l\",\"m\",\"n\",\"o\",\"p\",\"q\",\"r\",\"s\",\"t\",\"u\",\"v\",\"w\",\"x\",\"y\",\"z\"]\n",
    "    simbolos = [\"!\", \"#\", \"$\", \"&\", \"/\", \"(\", \")\",\"º\",\"ª\",\"|\",\"·\",\"%\",\"=\",\"?\",\"¿\",\"¡\",\"*\",\"ç\",\"`\",\"´\",\"+\",\"-\",\"_\",\"–\"]\n",
    "    numeros = [\"1\", \"2\", \"3\", \"4\", \"5\", \"6\", \"7\", \"8\", \"9\", \"0\"]\n",
    "    elementos = mayusculas + minusculas + simbolos + numeros\n",
    "    longitud_de_contraseña = int(input(\"Ingrese la longitud de su nueva contraseña(el tamaño importa): \"))\n",
    "    \n",
    "    for i in range(longitud_de_contraseña):\n",
    "        elemento_random = random.choice(elementos)\n",
    "        contraseña.append(elemento_random)\n",
    "\n",
    "    contrasena = \"\".join(contraseña)\n",
    "    return contrasena\n",
    "\n",
    "def run():\n",
    "    contraseña = contraseña_reforzada()\n",
    "    print(\"Tu contraseña reforzada es: \" + contraseña)\n",
    "\n",
    "\n",
    "if __name__ == \"__main__\":\n",
    "    run()\n",
    "    \n"
   ]
  },
  {
   "cell_type": "code",
   "execution_count": null,
   "id": "41614660",
   "metadata": {},
   "outputs": [],
   "source": []
  }
 ],
 "metadata": {
  "kernelspec": {
   "display_name": "Python 3 (ipykernel)",
   "language": "python",
   "name": "python3"
  },
  "language_info": {
   "codemirror_mode": {
    "name": "ipython",
    "version": 3
   },
   "file_extension": ".py",
   "mimetype": "text/x-python",
   "name": "python",
   "nbconvert_exporter": "python",
   "pygments_lexer": "ipython3",
   "version": "3.9.12"
  }
 },
 "nbformat": 4,
 "nbformat_minor": 5
}
